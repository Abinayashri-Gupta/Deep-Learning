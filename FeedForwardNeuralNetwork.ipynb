{
 "cells": [
  {
   "cell_type": "code",
   "execution_count": 1,
   "id": "1e2e35b3",
   "metadata": {},
   "outputs": [
    {
     "name": "stdout",
     "output_type": "stream",
     "text": [
      "0.7216325609518421\n"
     ]
    }
   ],
   "source": [
    "import numpy as np\n",
    "def sigmoid(x):\n",
    "    return 1/(1+np.exp(-x))\n",
    "\n",
    "class Neuron:\n",
    "    def __init__(self,weights,bias):\n",
    "        self.weights=weights\n",
    "        self.bias=bias\n",
    "    def feedforward(self,inputs):\n",
    "        total = np.dot(self.weights,inputs)+self.bias\n",
    "        return sigmoid(total)\n",
    "\n",
    "class Ournetwork:\n",
    "    def __init__(self):\n",
    "        weights= np.array([0,1])\n",
    "        bias =0\n",
    "        self.h1=Neuron(weights,bias)\n",
    "        self.h2=Neuron(weights,bias)\n",
    "        self.o1=Neuron(weights,bias)\n",
    "    def feedforward(self,x):\n",
    "        out_h1=self.h1.feedforward(x)\n",
    "        out_h2=self.h1.feedforward(x)\n",
    "        out_o1=self.o1.feedforward(np.array([out_h1,out_h2]))\n",
    "        return out_o1\n",
    "network = Ournetwork()\n",
    "x=np.array([2,3])\n",
    "print(network.feedforward(x))"
   ]
  },
  {
   "cell_type": "code",
   "execution_count": null,
   "id": "0e7d4568",
   "metadata": {},
   "outputs": [],
   "source": []
  }
 ],
 "metadata": {
  "kernelspec": {
   "display_name": "Python 3 (ipykernel)",
   "language": "python",
   "name": "python3"
  },
  "language_info": {
   "codemirror_mode": {
    "name": "ipython",
    "version": 3
   },
   "file_extension": ".py",
   "mimetype": "text/x-python",
   "name": "python",
   "nbconvert_exporter": "python",
   "pygments_lexer": "ipython3",
   "version": "3.10.9"
  }
 },
 "nbformat": 4,
 "nbformat_minor": 5
}
